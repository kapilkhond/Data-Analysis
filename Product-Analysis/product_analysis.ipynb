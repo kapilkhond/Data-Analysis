{
  "nbformat": 4,
  "nbformat_minor": 0,
  "metadata": {
    "colab": {
      "name": "product analysis.ipynb",
      "provenance": [],
      "toc_visible": true
    },
    "kernelspec": {
      "name": "python3",
      "display_name": "Python 3"
    }
  },
  "cells": [
    {
      "cell_type": "code",
      "metadata": {
        "id": "vevfoneOH3Xj",
        "colab_type": "code",
        "colab": {}
      },
      "source": [
        "import pandas as pd\n",
        "import os"
      ],
      "execution_count": null,
      "outputs": []
    },
    {
      "cell_type": "markdown",
      "metadata": {
        "id": "BM31q-sZIBcE",
        "colab_type": "text"
      },
      "source": [
        "Task #1: Merge 12 months of sales data into single CSV file"
      ]
    },
    {
      "cell_type": "code",
      "metadata": {
        "id": "p43rsMr0IWGI",
        "colab_type": "code",
        "colab": {}
      },
      "source": [
        "files = [file for file in os.listdir('/content')]\n",
        "all_months_df = pd.DataFrame()\n",
        "for file in files:\n",
        "  if \".csv\" in file:\n",
        "    all_months_df = pd.concat([all_months_df,pd.read_csv('/content/'+file)])\n",
        "\n",
        "all_months_df.to_csv('all_months_data.csv',index=False)"
      ],
      "execution_count": null,
      "outputs": []
    },
    {
      "cell_type": "markdown",
      "metadata": {
        "id": "Pj4MilmpMW1M",
        "colab_type": "text"
      },
      "source": [
        "read the concatenated csv file and print the first five rows"
      ]
    },
    {
      "cell_type": "code",
      "metadata": {
        "id": "HwwPbjNnMG4f",
        "colab_type": "code",
        "colab": {
          "base_uri": "https://localhost:8080/",
          "height": 202
        },
        "outputId": "9d003808-664f-4c31-dcbe-4e2c374a8f2c"
      },
      "source": [
        "all_months_df = pd.read_csv('all_months_data.csv')\n",
        "all_months_df.head()"
      ],
      "execution_count": null,
      "outputs": [
        {
          "output_type": "execute_result",
          "data": {
            "text/html": [
              "<div>\n",
              "<style scoped>\n",
              "    .dataframe tbody tr th:only-of-type {\n",
              "        vertical-align: middle;\n",
              "    }\n",
              "\n",
              "    .dataframe tbody tr th {\n",
              "        vertical-align: top;\n",
              "    }\n",
              "\n",
              "    .dataframe thead th {\n",
              "        text-align: right;\n",
              "    }\n",
              "</style>\n",
              "<table border=\"1\" class=\"dataframe\">\n",
              "  <thead>\n",
              "    <tr style=\"text-align: right;\">\n",
              "      <th></th>\n",
              "      <th>Order ID</th>\n",
              "      <th>Product</th>\n",
              "      <th>Quantity Ordered</th>\n",
              "      <th>Price Each</th>\n",
              "      <th>Order Date</th>\n",
              "      <th>Purchase Address</th>\n",
              "    </tr>\n",
              "  </thead>\n",
              "  <tbody>\n",
              "    <tr>\n",
              "      <th>0</th>\n",
              "      <td>278797</td>\n",
              "      <td>Wired Headphones</td>\n",
              "      <td>1</td>\n",
              "      <td>11.99</td>\n",
              "      <td>11/21/19 09:54</td>\n",
              "      <td>46 Park St, New York City, NY 10001</td>\n",
              "    </tr>\n",
              "    <tr>\n",
              "      <th>1</th>\n",
              "      <td>278798</td>\n",
              "      <td>USB-C Charging Cable</td>\n",
              "      <td>2</td>\n",
              "      <td>11.95</td>\n",
              "      <td>11/17/19 10:03</td>\n",
              "      <td>962 Hickory St, Austin, TX 73301</td>\n",
              "    </tr>\n",
              "    <tr>\n",
              "      <th>2</th>\n",
              "      <td>278799</td>\n",
              "      <td>Apple Airpods Headphones</td>\n",
              "      <td>1</td>\n",
              "      <td>150.0</td>\n",
              "      <td>11/19/19 14:56</td>\n",
              "      <td>464 Cherry St, Los Angeles, CA 90001</td>\n",
              "    </tr>\n",
              "    <tr>\n",
              "      <th>3</th>\n",
              "      <td>278800</td>\n",
              "      <td>27in FHD Monitor</td>\n",
              "      <td>1</td>\n",
              "      <td>149.99</td>\n",
              "      <td>11/25/19 22:24</td>\n",
              "      <td>649 10th St, Seattle, WA 98101</td>\n",
              "    </tr>\n",
              "    <tr>\n",
              "      <th>4</th>\n",
              "      <td>278801</td>\n",
              "      <td>Bose SoundSport Headphones</td>\n",
              "      <td>1</td>\n",
              "      <td>99.99</td>\n",
              "      <td>11/09/19 13:56</td>\n",
              "      <td>522 Hill St, Boston, MA 02215</td>\n",
              "    </tr>\n",
              "  </tbody>\n",
              "</table>\n",
              "</div>"
            ],
            "text/plain": [
              "  Order ID  ...                      Purchase Address\n",
              "0   278797  ...   46 Park St, New York City, NY 10001\n",
              "1   278798  ...      962 Hickory St, Austin, TX 73301\n",
              "2   278799  ...  464 Cherry St, Los Angeles, CA 90001\n",
              "3   278800  ...        649 10th St, Seattle, WA 98101\n",
              "4   278801  ...         522 Hill St, Boston, MA 02215\n",
              "\n",
              "[5 rows x 6 columns]"
            ]
          },
          "metadata": {
            "tags": []
          },
          "execution_count": 3
        }
      ]
    },
    {
      "cell_type": "markdown",
      "metadata": {
        "id": "0UXuIKgwaKgo",
        "colab_type": "text"
      },
      "source": [
        "## Clean the data"
      ]
    },
    {
      "cell_type": "markdown",
      "metadata": {
        "id": "DMDroHzLaTkA",
        "colab_type": "text"
      },
      "source": [
        "### remove rows with all NAN's"
      ]
    },
    {
      "cell_type": "code",
      "metadata": {
        "id": "VYkcoCC-aiKa",
        "colab_type": "code",
        "colab": {}
      },
      "source": [
        "all_months_df = all_months_df.dropna(how='all') "
      ],
      "execution_count": null,
      "outputs": []
    },
    {
      "cell_type": "markdown",
      "metadata": {
        "id": "3Wvf3AoUb_pE",
        "colab_type": "text"
      },
      "source": [
        "### remove rows without useful data"
      ]
    },
    {
      "cell_type": "code",
      "metadata": {
        "id": "-Hg574VvcImK",
        "colab_type": "code",
        "colab": {}
      },
      "source": [
        "all_months_df = all_months_df[~(all_months_df['Order Date'] == 'Order Date')]"
      ],
      "execution_count": null,
      "outputs": []
    },
    {
      "cell_type": "markdown",
      "metadata": {
        "id": "bLaTXWOaNqDX",
        "colab_type": "text"
      },
      "source": [
        "### Augment data with additional columns"
      ]
    },
    {
      "cell_type": "markdown",
      "metadata": {
        "id": "80lfZMzINuaS",
        "colab_type": "text"
      },
      "source": [
        "**Task #2: Add month column in dataframe**"
      ]
    },
    {
      "cell_type": "markdown",
      "metadata": {
        "id": "6bfE6ELNdVUl",
        "colab_type": "text"
      },
      "source": [
        "#### add month number column"
      ]
    },
    {
      "cell_type": "code",
      "metadata": {
        "id": "U6-4jaY2IPOP",
        "colab_type": "code",
        "colab": {}
      },
      "source": [
        "all_months_df['Month'] = all_months_df['Order Date'].str.split('/').str[0]\n",
        "all_months_df['Month'] = all_months_df['Month'].astype('int32')"
      ],
      "execution_count": null,
      "outputs": []
    },
    {
      "cell_type": "code",
      "metadata": {
        "id": "yhP-TaXFKv5s",
        "colab_type": "code",
        "colab": {}
      },
      "source": [
        "from google.colab import drive\n",
        "drive.mount('/content/drive')"
      ],
      "execution_count": null,
      "outputs": []
    },
    {
      "cell_type": "markdown",
      "metadata": {
        "id": "tu9FMM1adZ2l",
        "colab_type": "text"
      },
      "source": [
        "#### add sales column which is the product of \"Quantity ordered\" and \"Price each\""
      ]
    },
    {
      "cell_type": "code",
      "metadata": {
        "id": "K9nR8Tv7Snvr",
        "colab_type": "code",
        "colab": {}
      },
      "source": [
        "all_months_df['Quantity Ordered'] =  all_months_df['Quantity Ordered'].astype('int32')\n",
        "all_months_df['Price Each'] = all_months_df['Price Each'].astype('float32')\n",
        "all_months_df['Sales Price'] = all_months_df['Quantity Ordered']*all_months_df['Price Each']"
      ],
      "execution_count": null,
      "outputs": []
    },
    {
      "cell_type": "markdown",
      "metadata": {
        "id": "8nJRyjLImk3P",
        "colab_type": "text"
      },
      "source": [
        "##**Question1: What was the best month for sales?**"
      ]
    },
    {
      "cell_type": "code",
      "metadata": {
        "id": "HcRdrPnZdo4V",
        "colab_type": "code",
        "colab": {}
      },
      "source": [
        " results = all_months_df.groupby(['Month']).sum().reset_index()[['Month','Sales Price']]"
      ],
      "execution_count": null,
      "outputs": []
    },
    {
      "cell_type": "code",
      "metadata": {
        "id": "pksNhrozlf9D",
        "colab_type": "code",
        "colab": {
          "base_uri": "https://localhost:8080/",
          "height": 308
        },
        "outputId": "ee61dc8d-e4e0-4d13-8999-f71ff810d858"
      },
      "source": [
        "import matplotlib.pyplot as plt\n",
        "months = range(1,13)\n",
        "plt.bar(months, results['Sales Price'])\n",
        "plt.xticks(months)\n",
        "plt.ylabel(\"sales in millions USD\")\n",
        "plt.xlabel(\"Month Number\")"
      ],
      "execution_count": null,
      "outputs": [
        {
          "output_type": "execute_result",
          "data": {
            "text/plain": [
              "Text(0.5, 0, 'Month Number')"
            ]
          },
          "metadata": {
            "tags": []
          },
          "execution_count": 9
        },
        {
          "output_type": "display_data",
          "data": {
            "image/png": "[encoded data removed]",
            "text/plain": [
              "<Figure size 432x288 with 1 Axes>"
            ]
          },
          "metadata": {
            "tags": [],
            "needs_background": "light"
          }
        }
      ]
    },
    {
      "cell_type": "markdown",
      "metadata": {
        "id": "Xj7LfVGlmupq",
        "colab_type": "text"
      },
      "source": [
        "##**Answer1: December month has highest sale**s "
      ]
    },
    {
      "cell_type": "code",
      "metadata": {
        "id": "eqB2zJnaihXw",
        "colab_type": "code",
        "colab": {
          "base_uri": "https://localhost:8080/",
          "height": 202
        },
        "outputId": "f98c7de0-ce6c-4659-ef34-11f5b51cee04"
      },
      "source": [
        "def get_city(x):\n",
        "  return x.split(\",\")[1]\n",
        "\n",
        "def get_state(x):\n",
        "  return x.split(\",\")[2].split(\" \")[1]\n",
        "\n",
        "all_months_df['City'] = all_months_df['Purchase Address'].apply(lambda x: f\"{get_city(x)} ({get_state(x)})\")\n",
        "\n",
        "\n",
        "\n",
        " \n",
        "# alternative technique\n",
        "#all_months_df['City'] = all_months_df['Purchase Address'].str.split(',').str[1]\n",
        "\n",
        "\n",
        "results_sales_citywise = all_months_df.groupby('City').sum().reset_index()[['City','Sales Price']]\n",
        "results_sales_citywise.head()\n",
        "\n",
        "#all_months_df.head()"
      ],
      "execution_count": null,
      "outputs": [
        {
          "output_type": "execute_result",
          "data": {
            "text/html": [
              "<div>\n",
              "<style scoped>\n",
              "    .dataframe tbody tr th:only-of-type {\n",
              "        vertical-align: middle;\n",
              "    }\n",
              "\n",
              "    .dataframe tbody tr th {\n",
              "        vertical-align: top;\n",
              "    }\n",
              "\n",
              "    .dataframe thead th {\n",
              "        text-align: right;\n",
              "    }\n",
              "</style>\n",
              "<table border=\"1\" class=\"dataframe\">\n",
              "  <thead>\n",
              "    <tr style=\"text-align: right;\">\n",
              "      <th></th>\n",
              "      <th>City</th>\n",
              "      <th>Sales Price</th>\n",
              "    </tr>\n",
              "  </thead>\n",
              "  <tbody>\n",
              "    <tr>\n",
              "      <th>0</th>\n",
              "      <td>Atlanta (GA)</td>\n",
              "      <td>2795498.50</td>\n",
              "    </tr>\n",
              "    <tr>\n",
              "      <th>1</th>\n",
              "      <td>Austin (TX)</td>\n",
              "      <td>1819581.75</td>\n",
              "    </tr>\n",
              "    <tr>\n",
              "      <th>2</th>\n",
              "      <td>Boston (MA)</td>\n",
              "      <td>3661642.00</td>\n",
              "    </tr>\n",
              "    <tr>\n",
              "      <th>3</th>\n",
              "      <td>Dallas (TX)</td>\n",
              "      <td>2767975.50</td>\n",
              "    </tr>\n",
              "    <tr>\n",
              "      <th>4</th>\n",
              "      <td>Los Angeles (CA)</td>\n",
              "      <td>5452571.00</td>\n",
              "    </tr>\n",
              "  </tbody>\n",
              "</table>\n",
              "</div>"
            ],
            "text/plain": [
              "                City  Sales Price\n",
              "0       Atlanta (GA)   2795498.50\n",
              "1        Austin (TX)   1819581.75\n",
              "2        Boston (MA)   3661642.00\n",
              "3        Dallas (TX)   2767975.50\n",
              "4   Los Angeles (CA)   5452571.00"
            ]
          },
          "metadata": {
            "tags": []
          },
          "execution_count": 10
        }
      ]
    },
    {
      "cell_type": "markdown",
      "metadata": {
        "id": "3E1UPIAWp4AG",
        "colab_type": "text"
      },
      "source": [
        "##**Quetion2: Which city contributes highest Sales**"
      ]
    },
    {
      "cell_type": "code",
      "metadata": {
        "id": "EKf0-dslo2yE",
        "colab_type": "code",
        "colab": {
          "base_uri": "https://localhost:8080/",
          "height": 394
        },
        "outputId": "bad0c511-2560-4a90-d9f4-46544bf0e4e6"
      },
      "source": [
        "results_sales_citywise.plot.bar('City', 'Sales Price')\n",
        "#plt.xticks(results_sales_citywise['City'],rotation='vertical')\n",
        "plt.ylabel(\"sales in millions USD\")\n",
        "plt.xlabel(\"City\")"
      ],
      "execution_count": null,
      "outputs": [
        {
          "output_type": "execute_result",
          "data": {
            "text/plain": [
              "Text(0.5, 0, 'City')"
            ]
          },
          "metadata": {
            "tags": []
          },
          "execution_count": 11
        },
        {
          "output_type": "display_data",
          "data": {
            "image/png": "[encoded data removed]",
            "text/plain": [
              "<Figure size 432x288 with 1 Axes>"
            ]
          },
          "metadata": {
            "tags": [],
            "needs_background": "light"
          }
        }
      ]
    },
    {
      "cell_type": "markdown",
      "metadata": {
        "id": "Vgb2W9zRqC02",
        "colab_type": "text"
      },
      "source": [
        "## **Answer2: San Fransisco contributes highest sales**"
      ]
    },
    {
      "cell_type": "markdown",
      "metadata": {
        "id": "T66KI61-aRHk",
        "colab_type": "text"
      },
      "source": [
        "###Adding hour and minute columns"
      ]
    },
    {
      "cell_type": "code",
      "metadata": {
        "id": "mtgdgg43qB7w",
        "colab_type": "code",
        "colab": {
          "base_uri": "https://localhost:8080/",
          "height": 202
        },
        "outputId": "b2da7624-baa6-495e-b5b2-5a08f423a457"
      },
      "source": [
        "all_months_df['Order Date'] = pd.to_datetime(all_months_df['Order Date'])\n",
        "all_months_df['Hour'] = all_months_df['Order Date'].dt.hour\n",
        "all_months_df['Minute'] = all_months_df['Order Date'].dt.minute\n",
        "all_months_df.head()"
      ],
      "execution_count": null,
      "outputs": [
        {
          "output_type": "execute_result",
          "data": {
            "text/html": [
              "<div>\n",
              "<style scoped>\n",
              "    .dataframe tbody tr th:only-of-type {\n",
              "        vertical-align: middle;\n",
              "    }\n",
              "\n",
              "    .dataframe tbody tr th {\n",
              "        vertical-align: top;\n",
              "    }\n",
              "\n",
              "    .dataframe thead th {\n",
              "        text-align: right;\n",
              "    }\n",
              "</style>\n",
              "<table border=\"1\" class=\"dataframe\">\n",
              "  <thead>\n",
              "    <tr style=\"text-align: right;\">\n",
              "      <th></th>\n",
              "      <th>Order ID</th>\n",
              "      <th>Product</th>\n",
              "      <th>Quantity Ordered</th>\n",
              "      <th>Price Each</th>\n",
              "      <th>Order Date</th>\n",
              "      <th>Purchase Address</th>\n",
              "      <th>Month</th>\n",
              "      <th>Sales Price</th>\n",
              "      <th>City</th>\n",
              "      <th>Hour</th>\n",
              "      <th>Minute</th>\n",
              "    </tr>\n",
              "  </thead>\n",
              "  <tbody>\n",
              "    <tr>\n",
              "      <th>0</th>\n",
              "      <td>278797</td>\n",
              "      <td>Wired Headphones</td>\n",
              "      <td>1</td>\n",
              "      <td>11.990000</td>\n",
              "      <td>2019-11-21 09:54:00</td>\n",
              "      <td>46 Park St, New York City, NY 10001</td>\n",
              "      <td>11</td>\n",
              "      <td>11.990000</td>\n",
              "      <td>New York City (NY)</td>\n",
              "      <td>9</td>\n",
              "      <td>54</td>\n",
              "    </tr>\n",
              "    <tr>\n",
              "      <th>1</th>\n",
              "      <td>278798</td>\n",
              "      <td>USB-C Charging Cable</td>\n",
              "      <td>2</td>\n",
              "      <td>11.950000</td>\n",
              "      <td>2019-11-17 10:03:00</td>\n",
              "      <td>962 Hickory St, Austin, TX 73301</td>\n",
              "      <td>11</td>\n",
              "      <td>23.900000</td>\n",
              "      <td>Austin (TX)</td>\n",
              "      <td>10</td>\n",
              "      <td>3</td>\n",
              "    </tr>\n",
              "    <tr>\n",
              "      <th>2</th>\n",
              "      <td>278799</td>\n",
              "      <td>Apple Airpods Headphones</td>\n",
              "      <td>1</td>\n",
              "      <td>150.000000</td>\n",
              "      <td>2019-11-19 14:56:00</td>\n",
              "      <td>464 Cherry St, Los Angeles, CA 90001</td>\n",
              "      <td>11</td>\n",
              "      <td>150.000000</td>\n",
              "      <td>Los Angeles (CA)</td>\n",
              "      <td>14</td>\n",
              "      <td>56</td>\n",
              "    </tr>\n",
              "    <tr>\n",
              "      <th>3</th>\n",
              "      <td>278800</td>\n",
              "      <td>27in FHD Monitor</td>\n",
              "      <td>1</td>\n",
              "      <td>149.990005</td>\n",
              "      <td>2019-11-25 22:24:00</td>\n",
              "      <td>649 10th St, Seattle, WA 98101</td>\n",
              "      <td>11</td>\n",
              "      <td>149.990005</td>\n",
              "      <td>Seattle (WA)</td>\n",
              "      <td>22</td>\n",
              "      <td>24</td>\n",
              "    </tr>\n",
              "    <tr>\n",
              "      <th>4</th>\n",
              "      <td>278801</td>\n",
              "      <td>Bose SoundSport Headphones</td>\n",
              "      <td>1</td>\n",
              "      <td>99.989998</td>\n",
              "      <td>2019-11-09 13:56:00</td>\n",
              "      <td>522 Hill St, Boston, MA 02215</td>\n",
              "      <td>11</td>\n",
              "      <td>99.989998</td>\n",
              "      <td>Boston (MA)</td>\n",
              "      <td>13</td>\n",
              "      <td>56</td>\n",
              "    </tr>\n",
              "  </tbody>\n",
              "</table>\n",
              "</div>"
            ],
            "text/plain": [
              "  Order ID                     Product  ...  Hour  Minute\n",
              "0   278797            Wired Headphones  ...     9      54\n",
              "1   278798        USB-C Charging Cable  ...    10       3\n",
              "2   278799    Apple Airpods Headphones  ...    14      56\n",
              "3   278800            27in FHD Monitor  ...    22      24\n",
              "4   278801  Bose SoundSport Headphones  ...    13      56\n",
              "\n",
              "[5 rows x 11 columns]"
            ]
          },
          "metadata": {
            "tags": []
          },
          "execution_count": 12
        }
      ]
    },
    {
      "cell_type": "markdown",
      "metadata": {
        "id": "i8PL74veTcRM",
        "colab_type": "text"
      },
      "source": [
        "##**Question 3: What time should we display advertisemens to maximize the likelihood of customer’s buying product?**"
      ]
    },
    {
      "cell_type": "code",
      "metadata": {
        "id": "9V1-mAPJUUxv",
        "colab_type": "code",
        "colab": {
          "base_uri": "https://localhost:8080/",
          "height": 300
        },
        "outputId": "8382ec2f-3658-477c-a0f4-5b8590c84abb"
      },
      "source": [
        "result_no_products_sold_hourwise = all_months_df.groupby('Hour').count().reset_index()[['Hour','Order ID']]\n",
        "result_no_products_sold_hourwise.plot.bar('Hour','Order ID')\n",
        "plt.xlabel('Hour')\n",
        "plt.ylabel('No of products sold')"
      ],
      "execution_count": null,
      "outputs": [
        {
          "output_type": "execute_result",
          "data": {
            "text/plain": [
              "Text(0, 0.5, 'No of products sold')"
            ]
          },
          "metadata": {
            "tags": []
          },
          "execution_count": 13
        },
        {
          "output_type": "display_data",
          "data": {
            "image/png": "[encoded data removed]",
            "text/plain": [
              "<Figure size 432x288 with 1 Axes>"
            ]
          },
          "metadata": {
            "tags": [],
            "needs_background": "light"
          }
        }
      ]
    },
    {
      "cell_type": "markdown",
      "metadata": {
        "id": "8aVOkLUZaceR",
        "colab_type": "text"
      },
      "source": [
        "##**Answer3 : We should display advertisement between 11:00 to 13:00 and 18:00 to 20:00**"
      ]
    },
    {
      "cell_type": "markdown",
      "metadata": {
        "id": "NASuKqC85Wnv",
        "colab_type": "text"
      },
      "source": [
        "##**Question4: What products are most often sold together?**"
      ]
    },
    {
      "cell_type": "code",
      "metadata": {
        "id": "R4ZdUMPUe_B2",
        "colab_type": "code",
        "colab": {}
      },
      "source": [
        "product_sold_together = all_months_df.groupby('Order ID')['Product'].apply(list).reset_index(name='Product Sold Together')"
      ],
      "execution_count": null,
      "outputs": []
    },
    {
      "cell_type": "code",
      "metadata": {
        "id": "u7g3qMrOf01E",
        "colab_type": "code",
        "colab": {}
      },
      "source": [
        "product_sold_together['No. of Products'] = product_sold_together['Product Sold Together'].str.len()\n",
        "product_sold_together = product_sold_together[product_sold_together['No. of Products'] >1]"
      ],
      "execution_count": null,
      "outputs": []
    },
    {
      "cell_type": "code",
      "metadata": {
        "id": "SBT3d-y5h3Cv",
        "colab_type": "code",
        "colab": {
          "base_uri": "https://localhost:8080/",
          "height": 202
        },
        "outputId": "a26e14e3-6b33-4dfb-d46e-6f78513f43bb"
      },
      "source": [
        "product_sold_together.head()"
      ],
      "execution_count": null,
      "outputs": [
        {
          "output_type": "execute_result",
          "data": {
            "text/html": [
              "<div>\n",
              "<style scoped>\n",
              "    .dataframe tbody tr th:only-of-type {\n",
              "        vertical-align: middle;\n",
              "    }\n",
              "\n",
              "    .dataframe tbody tr th {\n",
              "        vertical-align: top;\n",
              "    }\n",
              "\n",
              "    .dataframe thead th {\n",
              "        text-align: right;\n",
              "    }\n",
              "</style>\n",
              "<table border=\"1\" class=\"dataframe\">\n",
              "  <thead>\n",
              "    <tr style=\"text-align: right;\">\n",
              "      <th></th>\n",
              "      <th>Order ID</th>\n",
              "      <th>Product Sold Together</th>\n",
              "      <th>No. of Products</th>\n",
              "    </tr>\n",
              "  </thead>\n",
              "  <tbody>\n",
              "    <tr>\n",
              "      <th>41</th>\n",
              "      <td>141275</td>\n",
              "      <td>[USB-C Charging Cable, Wired Headphones]</td>\n",
              "      <td>2</td>\n",
              "    </tr>\n",
              "    <tr>\n",
              "      <th>56</th>\n",
              "      <td>141290</td>\n",
              "      <td>[Apple Airpods Headphones, AA Batteries (4-pack)]</td>\n",
              "      <td>2</td>\n",
              "    </tr>\n",
              "    <tr>\n",
              "      <th>131</th>\n",
              "      <td>141365</td>\n",
              "      <td>[Vareebadd Phone, Wired Headphones]</td>\n",
              "      <td>2</td>\n",
              "    </tr>\n",
              "    <tr>\n",
              "      <th>150</th>\n",
              "      <td>141384</td>\n",
              "      <td>[Google Phone, USB-C Charging Cable]</td>\n",
              "      <td>2</td>\n",
              "    </tr>\n",
              "    <tr>\n",
              "      <th>216</th>\n",
              "      <td>141450</td>\n",
              "      <td>[Google Phone, Bose SoundSport Headphones]</td>\n",
              "      <td>2</td>\n",
              "    </tr>\n",
              "  </tbody>\n",
              "</table>\n",
              "</div>"
            ],
            "text/plain": [
              "    Order ID  ... No. of Products\n",
              "41    141275  ...               2\n",
              "56    141290  ...               2\n",
              "131   141365  ...               2\n",
              "150   141384  ...               2\n",
              "216   141450  ...               2\n",
              "\n",
              "[5 rows x 3 columns]"
            ]
          },
          "metadata": {
            "tags": []
          },
          "execution_count": 24
        }
      ]
    },
    {
      "cell_type": "code",
      "metadata": {
        "id": "vyMfAho5n5v9",
        "colab_type": "code",
        "colab": {
          "base_uri": "https://localhost:8080/",
          "height": 190
        },
        "outputId": "e707c5da-bd44-4345-e9d8-66298f3a0274"
      },
      "source": [
        "from collections import Counter   \n",
        "  \n",
        "# Using counter \n",
        "Output = Counter([tuple(i) for i in product_sold_together['Product Sold Together']]) \n",
        "  \n",
        "# Printing output \n",
        "for key, value in (Output.most_common(10)):\n",
        "  print (key, value) "
      ],
      "execution_count": null,
      "outputs": [
        {
          "output_type": "stream",
          "text": [
            "('iPhone', 'Lightning Charging Cable') 882\n",
            "('Google Phone', 'USB-C Charging Cable') 856\n",
            "('iPhone', 'Wired Headphones') 361\n",
            "('Vareebadd Phone', 'USB-C Charging Cable') 312\n",
            "('Google Phone', 'Wired Headphones') 303\n",
            "('iPhone', 'Apple Airpods Headphones') 286\n",
            "('Google Phone', 'Bose SoundSport Headphones') 161\n",
            "('Vareebadd Phone', 'Wired Headphones') 104\n",
            "('Google Phone', 'USB-C Charging Cable', 'Wired Headphones') 77\n",
            "('Vareebadd Phone', 'Bose SoundSport Headphones') 60\n"
          ],
          "name": "stdout"
        }
      ]
    },
    {
      "cell_type": "code",
      "metadata": {
        "id": "OOdrcWmWwOOT",
        "colab_type": "code",
        "colab": {
          "base_uri": "https://localhost:8080/",
          "height": 202
        },
        "outputId": "88dd6ad8-20a8-4a52-b3e0-9f2b5da423c4"
      },
      "source": [
        "all_months_df.head()"
      ],
      "execution_count": null,
      "outputs": [
        {
          "output_type": "execute_result",
          "data": {
            "text/html": [
              "<div>\n",
              "<style scoped>\n",
              "    .dataframe tbody tr th:only-of-type {\n",
              "        vertical-align: middle;\n",
              "    }\n",
              "\n",
              "    .dataframe tbody tr th {\n",
              "        vertical-align: top;\n",
              "    }\n",
              "\n",
              "    .dataframe thead th {\n",
              "        text-align: right;\n",
              "    }\n",
              "</style>\n",
              "<table border=\"1\" class=\"dataframe\">\n",
              "  <thead>\n",
              "    <tr style=\"text-align: right;\">\n",
              "      <th></th>\n",
              "      <th>Order ID</th>\n",
              "      <th>Product</th>\n",
              "      <th>Quantity Ordered</th>\n",
              "      <th>Price Each</th>\n",
              "      <th>Order Date</th>\n",
              "      <th>Purchase Address</th>\n",
              "      <th>Month</th>\n",
              "      <th>Sales Price</th>\n",
              "      <th>City</th>\n",
              "      <th>Hour</th>\n",
              "      <th>Minute</th>\n",
              "    </tr>\n",
              "  </thead>\n",
              "  <tbody>\n",
              "    <tr>\n",
              "      <th>0</th>\n",
              "      <td>278797</td>\n",
              "      <td>Wired Headphones</td>\n",
              "      <td>1</td>\n",
              "      <td>11.990000</td>\n",
              "      <td>2019-11-21 09:54:00</td>\n",
              "      <td>46 Park St, New York City, NY 10001</td>\n",
              "      <td>11</td>\n",
              "      <td>11.990000</td>\n",
              "      <td>New York City (NY)</td>\n",
              "      <td>9</td>\n",
              "      <td>54</td>\n",
              "    </tr>\n",
              "    <tr>\n",
              "      <th>1</th>\n",
              "      <td>278798</td>\n",
              "      <td>USB-C Charging Cable</td>\n",
              "      <td>2</td>\n",
              "      <td>11.950000</td>\n",
              "      <td>2019-11-17 10:03:00</td>\n",
              "      <td>962 Hickory St, Austin, TX 73301</td>\n",
              "      <td>11</td>\n",
              "      <td>23.900000</td>\n",
              "      <td>Austin (TX)</td>\n",
              "      <td>10</td>\n",
              "      <td>3</td>\n",
              "    </tr>\n",
              "    <tr>\n",
              "      <th>2</th>\n",
              "      <td>278799</td>\n",
              "      <td>Apple Airpods Headphones</td>\n",
              "      <td>1</td>\n",
              "      <td>150.000000</td>\n",
              "      <td>2019-11-19 14:56:00</td>\n",
              "      <td>464 Cherry St, Los Angeles, CA 90001</td>\n",
              "      <td>11</td>\n",
              "      <td>150.000000</td>\n",
              "      <td>Los Angeles (CA)</td>\n",
              "      <td>14</td>\n",
              "      <td>56</td>\n",
              "    </tr>\n",
              "    <tr>\n",
              "      <th>3</th>\n",
              "      <td>278800</td>\n",
              "      <td>27in FHD Monitor</td>\n",
              "      <td>1</td>\n",
              "      <td>149.990005</td>\n",
              "      <td>2019-11-25 22:24:00</td>\n",
              "      <td>649 10th St, Seattle, WA 98101</td>\n",
              "      <td>11</td>\n",
              "      <td>149.990005</td>\n",
              "      <td>Seattle (WA)</td>\n",
              "      <td>22</td>\n",
              "      <td>24</td>\n",
              "    </tr>\n",
              "    <tr>\n",
              "      <th>4</th>\n",
              "      <td>278801</td>\n",
              "      <td>Bose SoundSport Headphones</td>\n",
              "      <td>1</td>\n",
              "      <td>99.989998</td>\n",
              "      <td>2019-11-09 13:56:00</td>\n",
              "      <td>522 Hill St, Boston, MA 02215</td>\n",
              "      <td>11</td>\n",
              "      <td>99.989998</td>\n",
              "      <td>Boston (MA)</td>\n",
              "      <td>13</td>\n",
              "      <td>56</td>\n",
              "    </tr>\n",
              "  </tbody>\n",
              "</table>\n",
              "</div>"
            ],
            "text/plain": [
              "  Order ID                     Product  ...  Hour  Minute\n",
              "0   278797            Wired Headphones  ...     9      54\n",
              "1   278798        USB-C Charging Cable  ...    10       3\n",
              "2   278799    Apple Airpods Headphones  ...    14      56\n",
              "3   278800            27in FHD Monitor  ...    22      24\n",
              "4   278801  Bose SoundSport Headphones  ...    13      56\n",
              "\n",
              "[5 rows x 11 columns]"
            ]
          },
          "metadata": {
            "tags": []
          },
          "execution_count": 49
        }
      ]
    },
    {
      "cell_type": "markdown",
      "metadata": {
        "id": "-g13alML5kMK",
        "colab_type": "text"
      },
      "source": [
        "##**Answer5: Below mentioned items are frequently sold together**\n",
        "\n",
        "1. ('iPhone', 'Lightning Charging Cable')   Count: 882 \n",
        "\n",
        "2. ('Google Phone', 'USB-C Charging Cable')    Count: 856\n",
        "\n",
        "3. ('iPhone', 'Wired Headphones')  Count: 361\n",
        "\n",
        "4. ('Vareebadd Phone', 'USB-C Charging Cable')  Count: 312\n",
        "5. ('Google Phone', 'Wired Headphones')   Count: 303\n",
        "6. ('iPhone', 'Apple Airpods Headphones') Count: 286\n",
        "7. ('Google Phone', 'Bose SoundSport Headphones') Count: 161\n",
        "8. ('Vareebadd Phone', 'Wired Headphones') Count: 104\n",
        "9. ('Google Phone', 'USB-C Charging Cable', 'Wired Headphones')  Count:77\n",
        "10. ('Vareebadd Phone', 'Bose SoundSport Headphones') Count:60"
      ]
    },
    {
      "cell_type": "markdown",
      "metadata": {
        "id": "jZpKMXQULOXU",
        "colab_type": "text"
      },
      "source": [
        "##**Question6:What product sold the most? Why do you think it sold the most?**"
      ]
    },
    {
      "cell_type": "code",
      "metadata": {
        "id": "mO7YpAsUL6ay",
        "colab_type": "code",
        "colab": {
          "base_uri": "https://localhost:8080/",
          "height": 424
        },
        "outputId": "ae436750-930f-4c7e-8d66-986d38dc75a0"
      },
      "source": [
        "product_group = all_months_df.groupby(['Product'])\n",
        "quantities_ordered = product_group.sum()['Quantity Ordered']\n",
        "price_product = product_group.mean()['Price Each']\n",
        "products = [product for product, df in product_group]\n",
        "\n",
        "\n",
        "\n",
        "quantities_sold = all_months_df.groupby(['Product']).sum()['Quantity Ordered'].reset_index()\n",
        "price_each_product = all_months_df.groupby('Product').mean()['Price Each'].reset_index()\n",
        "\n",
        "#quantities_sold.plot.bar('Product','Quantity Ordered')\n",
        "# create figure and axis objects with subplots()\n",
        "\n",
        "fig,ax = plt.subplots()\n",
        "# make a plot\n",
        "ax.plot()\n",
        "ax.bar(quantities_sold['Product'], quantities_sold['Quantity Ordered'], color=\"red\")\n",
        "# set x-axis label\n",
        "ax.set_xlabel('Product',fontsize=14)\n",
        "# set y-axis label\n",
        "ax.set_ylabel('Quantity Ordered',color=\"red\",fontsize=14)\n",
        "ax.set_xticklabels(quantities_sold['Product'],rotation='vertical')\n",
        "ax2=ax.twinx()\n",
        "# make a plot with different y-axis using second axis object\n",
        "ax2.plot(quantities_sold['Product'],price_each_product['Price Each'],color=\"blue\",marker=\"o\")\n",
        "ax2.set_ylabel(\"price_each_product\",color=\"blue\",fontsize=14)\n",
        "plt.show()"
      ],
      "execution_count": null,
      "outputs": [
        {
          "output_type": "display_data",
          "data": {
            "image/png": "[encoded data removed]",
            "text/plain": [
              "<Figure size 432x288 with 2 Axes>"
            ]
          },
          "metadata": {
            "tags": [],
            "needs_background": "light"
          }
        }
      ]
    },
    {
      "cell_type": "markdown",
      "metadata": {
        "id": "w8dvvGbtgaTs",
        "colab_type": "text"
      },
      "source": [
        "##**Answer6:**\n",
        "**1. As you can see AAA batteries(4-pack), AA batteries(4-pack), Lightning Charging Cable, USB-C Charging Cable are sold most.** \n",
        "\n",
        "**2. The reason being its price (price of such products is vere low). Products like LG Dryer, LG Washing Machine are sold less as they are expensive.** \n",
        "\n",
        "**3. This proves inverse relation between product quantity sold and price of the product.** \n",
        "\n",
        "**4. That being said, it is not true always for an ex. even though price for Macbook Pro Laptop is high still its quantities sold is higher so we need to look into other factors to investigate this behaviour.** "
      ]
    }
  ]
}